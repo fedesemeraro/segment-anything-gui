{
 "cells": [
  {
   "attachments": {},
   "cell_type": "markdown",
   "metadata": {},
   "source": [
    "# Segment Anything GUI\n",
    "\n",
    "To run this Jupyter notebook in Colab, change the runtime to GPU and run the following two cells to setup and upload an image to be segmented.\n",
    "\n",
    "If running locally, skip to the cell containing run_gui and adjust img_filename."
   ]
  },
  {
   "cell_type": "code",
   "execution_count": null,
   "metadata": {},
   "outputs": [],
   "source": [
    "#@markdown Colab: SAM Setup\n",
    "from google.colab import output\n",
    "output.enable_custom_widget_manager()\n",
    "![ ! -f \"sam_vit_h_4b8939.pth\" ] && wget https://dl.fbaipublicfiles.com/segment_anything/sam_vit_h_4b8939.pth\n",
    "!pip install git+https://github.com/facebookresearch/segment-anything.git git+https://github.com/fsemerar/segment-anything-gui.git -q"
   ]
  },
  {
   "cell_type": "code",
   "execution_count": null,
   "metadata": {},
   "outputs": [],
   "source": [
    "#@markdown Colab: Upload image to label\n",
    "from google.colab import files\n",
    "img_filename = list(files.upload().keys())[0]"
   ]
  },
  {
   "cell_type": "code",
   "execution_count": null,
   "metadata": {},
   "outputs": [],
   "source": [
    "from segment_anything_gui import run_gui\n",
    "%matplotlib ipympl\n",
    "\n",
    "# if running notebook LOCALLY, adjust img_filename\n",
    "segmenter = run_gui(img_filename)"
   ]
  },
  {
   "cell_type": "code",
   "execution_count": null,
   "metadata": {},
   "outputs": [],
   "source": [
    "# Save labels\n",
    "if segmenter:\n",
    "    tag_filename = \"tag.jpg\"\n",
    "    segmenter.save_annotation(tag_filename)"
   ]
  },
  {
   "cell_type": "code",
   "execution_count": null,
   "metadata": {},
   "outputs": [],
   "source": [
    "#@markdown Colab: Download labels\n",
    "files.download(tag_filename)"
   ]
  }
 ],
 "metadata": {
  "kernelspec": {
   "display_name": "sam",
   "language": "python",
   "name": "python3"
  },
  "language_info": {
   "codemirror_mode": {
    "name": "ipython",
    "version": 3
   },
   "file_extension": ".py",
   "mimetype": "text/x-python",
   "name": "python",
   "nbconvert_exporter": "python",
   "pygments_lexer": "ipython3",
   "version": "3.10.10"
  },
  "orig_nbformat": 4
 },
 "nbformat": 4,
 "nbformat_minor": 2
}
